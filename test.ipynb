{
 "cells": [
  {
   "cell_type": "code",
   "execution_count": 1,
   "id": "08407838-7027-4cc5-bf73-00a3b3bcb76b",
   "metadata": {},
   "outputs": [],
   "source": [
    "from openai import OpenAI"
   ]
  },
  {
   "cell_type": "code",
   "execution_count": 2,
   "id": "781a374f-5753-45b5-9028-84541cfa8c3a",
   "metadata": {},
   "outputs": [],
   "source": [
    "client = OpenAI(\n",
    "    api_key='EMPTY',\n",
    "    base_url=\"http://localhost:8086/v1\",\n",
    ")"
   ]
  },
  {
   "cell_type": "code",
   "execution_count": 3,
   "id": "03e0086f-eabd-4c1a-8c83-d7a8b369ae55",
   "metadata": {},
   "outputs": [],
   "source": [
    "model = \"/public/home/bdpstu/xintianle/software/hf/model/Meta/Meta-Llama-3-8B-Instruct\""
   ]
  },
  {
   "cell_type": "code",
   "execution_count": null,
   "id": "58c2852d-cadd-4c63-9041-b2641639e1d2",
   "metadata": {},
   "outputs": [],
   "source": [
    "chat_response = client.chat.completions.create(\n",
    "    model=model,\n",
    "    messages=[\n",
    "        {\"role\": \"system\", \"content\": \"You are a helpful assistant.\"},\n",
    "        {\"role\": \"user\", \"content\": \"What is the day of 2023/7/20\"},\n",
    "    ],\n",
    "    temperature=0.1,\n",
    "    stop=['<|eot_id|>']\n",
    ")\n",
    "print(chat_response.choices[0].message.content)"
   ]
  }
 ],
 "metadata": {
  "kernelspec": {
   "display_name": "Python 3 (ipykernel)",
   "language": "python",
   "name": "python3"
  },
  "language_info": {
   "codemirror_mode": {
    "name": "ipython",
    "version": 3
   },
   "file_extension": ".py",
   "mimetype": "text/x-python",
   "name": "python",
   "nbconvert_exporter": "python",
   "pygments_lexer": "ipython3",
   "version": "3.12.3"
  }
 },
 "nbformat": 4,
 "nbformat_minor": 5
}
