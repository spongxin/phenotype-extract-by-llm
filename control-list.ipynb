{
 "cells": [
  {
   "cell_type": "code",
   "execution_count": 1,
   "metadata": {},
   "outputs": [],
   "source": [
    "import requests\n",
    "from bs4 import BeautifulSoup\n",
    "from html import unescape\n",
    "import pandas as pd"
   ]
  },
  {
   "cell_type": "code",
   "execution_count": 2,
   "metadata": {},
   "outputs": [],
   "source": [
    "resp = requests.get(\n",
    "    'https://www.brenda-enzymes.org/all_enzymes.php',\n",
    "    headers={'User-Agent': 'Mozilla/5.0 (Windows NT 10.0; Win64; x64) AppleWebKit/537.36 (KHTML, like Gecko) Chrome/126.0.0.0 Safari/537.36'}\n",
    ")"
   ]
  },
  {
   "cell_type": "markdown",
   "metadata": {},
   "source": [
    "# Enzyme"
   ]
  },
  {
   "cell_type": "code",
   "execution_count": 3,
   "metadata": {},
   "outputs": [],
   "source": [
    "assert resp.status_code == 200"
   ]
  },
  {
   "cell_type": "code",
   "execution_count": 4,
   "metadata": {},
   "outputs": [],
   "source": [
    "soup = BeautifulSoup(resp.text, 'lxml')\n",
    "enzymes = soup.html.body.find('div', id=\"content\").div.table.tbody.find_all('tr')\n",
    "enzymes = pd.DataFrame([{'EC Number': enzyme.td.text, 'Name': enzyme.td.next_sibling.text} for enzyme in enzymes])"
   ]
  },
  {
   "cell_type": "code",
   "execution_count": 11,
   "metadata": {},
   "outputs": [],
   "source": [
    "enzymes['Name'].to_csv('brenda-enzymes.csv', index=False, header=False)"
   ]
  },
  {
   "cell_type": "code",
   "execution_count": 25,
   "metadata": {},
   "outputs": [
    {
     "name": "stdout",
     "output_type": "stream",
     "text": [
      "7904\n"
     ]
    }
   ],
   "source": [
    "with open(r'reference\\brenda-enzymes.txt', 'r') as f:\n",
    "    enzymes = list(set([unescape(i.strip()) for i in f.readlines()]))\n",
    "print(len(enzymes))"
   ]
  },
  {
   "cell_type": "code",
   "execution_count": 26,
   "metadata": {},
   "outputs": [],
   "source": [
    "with open(r'reference\\brenda-enzymes.txt', 'w', encoding='utf-8') as f:\n",
    "    for enzyme in enzymes:\n",
    "        f.write(enzyme + '\\n')"
   ]
  },
  {
   "cell_type": "code",
   "execution_count": 27,
   "metadata": {},
   "outputs": [],
   "source": [
    "enzymes = []\n",
    "for filename in ['brenda-enzymes.txt', 'eLMSG-commonly-used-enzymes.txt', 'RDBSB-enzymes.txt']:\n",
    "    with open(f'reference/{filename}', 'r') as f:\n",
    "        enzymes += [i.strip() for i in f.readlines()]\n",
    "enzymes = sorted(list(set(enzymes)))"
   ]
  },
  {
   "cell_type": "code",
   "execution_count": 28,
   "metadata": {},
   "outputs": [
    {
     "name": "stdout",
     "output_type": "stream",
     "text": [
      "125345\n"
     ]
    }
   ],
   "source": [
    "print(len(enzymes))"
   ]
  },
  {
   "cell_type": "code",
   "execution_count": 29,
   "metadata": {},
   "outputs": [],
   "source": [
    "with open('reference\\enzymes.txt', 'w', encoding='utf-8') as f:\n",
    "    for enzyme in enzymes:\n",
    "        f.write(enzyme + '\\n')"
   ]
  },
  {
   "cell_type": "markdown",
   "metadata": {},
   "source": [
    "# Antibiotic"
   ]
  },
  {
   "cell_type": "code",
   "execution_count": 25,
   "metadata": {},
   "outputs": [],
   "source": [
    "antibiotics = ['Isoniazid', 'Lincomycin,Vancomycin', 'Novobiocin', 'Optochin', 'Oxacillin', 'Thiacetazone', 'acetylspiramycin', 'actinomycin_d', 'amikacin', 'amoxicillin', 'amoxicillin_clavulanate', 'ampicillin', 'ampicillin_sulbactam', 'anisomycin', 'aphidocolin', 'apramycin', 'aureomycin', 'azlocillin', 'aztreonam', 'bacitracin', 'carbenicillin', 'cefadroxil', 'cefalexin', 'cefaloridine', 'cefaloridine_hydrochloride', 'cefalosporin', 'cefalosporin_iv', 'cefalothin', 'cefalothin_sodium', 'cefazolin', 'cefazolin_sodium', 'cefmetazole', 'cefoperazone', 'cefotaxime', 'cefoxitin', 'cefpodoxime', 'cefproxil', 'cefradine', 'cefsulodin', 'ceftazidime', 'ceftriaxone', 'cefulaxime', 'cefuroxime', 'chloramfenicol', 'chlortetracycline', 'cinoxacin', 'ciprofloxacin', 'clarithromycin', 'clavulanic_acid', 'clindamycin', 'cloxacillin', 'colistin', 'colistin_sulfate', 'cyclohexamide', 'cycloserine', 'd-cycloserine', 'dapsone', 'daunomycin', 'demethylchlortetracycline', 'demethylchlortetracycline_hydrochloride', 'doxycycline', 'doxycycline_hydrochloride', 'enoxacin', 'erythromycin', 'ethambutol', 'ethionamide', 'ethylhydrocupreine', 'flucloxicillin', 'fluorouracil', 'fosfomycin', 'furazolidone', 'fusidic_acid', 'fusidinic_acid', 'gentamicin', 'gentamicin_sulfate', 'hygromycin', 'hygromycin_b', 'imipenem', 'isoniazid', 'isonicotinic acid hydrazide', 'josamycin', 'kanamycin', 'kanamycin_sulfate', 'kasugamycin', 'kufzol', 'lasalocid_a', 'lincomycin', 'lincomycin_hydrochloride', 'linomycin', 'lividomycin', 'lomefloxacin', 'mecillinam', 'methicillin', 'metronidazole', 'mezlocillin', 'midecamycin', 'minocin', 'minocycline', 'minomycin', 'mitomycin_c', 'monensin', 'moxifloxacin', 'mycostatin', 'nalidixic_acid', 'neomycin', 'neomycin_sulfate', 'netilmicin', 'nitrofuran', 'nitrofurantoin', 'norfloxacin', 'novobiocin', 'ofloxacin', 'oleandomycin', 'optochin', 'oxacillin', 'oxolinic_acid', 'oxytetracycline', 'penicillin', 'penicillin_g', 'perfloxacin', 'piperacillin', 'piperacillin_tazobactam', 'polymyxin', 'polymyxin B', 'polymyxin_b', 'pravastatin', 'pristinamycin', 'pseudomonic_acid', 'puromycin', 'rifampicin', 'rifampicin_rv', 'rifampicin_sv', 'rifamycin SV', 'roxithromycin', 'spectinomycin', 'spiramycin', 'staphylomycin', 'streptomycin', 'sulfadiazine', 'sulfamethizole', 'sulfamethoxazole', 'sulfamethoxazole_trimethoprim', 'sulfamonomethoxine', 'sulfanilamide', 'sulphafurazole', 'teicoplanin', 'tetracycline', 'tetracycline_hydrochloride', 'thiacetazone', 'ticarcillin', 'tobramycin', 'tobramycin_sulfate', 'tolnaftate', 'triazoles_fluconazole', 'trimethoprim', 'tylosin', 'tyrothricin', 'vancomycin', 'vancomycin_hydrochloride', 'viomycin', 'voriconazole', '6-demethyltetracycline', 'Amikacin', 'Cefuroxime', 'Chloramphenicol', 'Ciprofloxacin', 'Clarithromycin', 'Erythromycin', 'Ethambutol', 'Gentamicin', 'Isoniazid', 'Lincomycin', 'Minocycline', 'Norfloxacin', 'Penicillin', 'Piperacillin', 'Rifamycin SV', 'Tetracycline', 'Vancomycin', 'acetylspiramycin', 'actinomycin_d', 'adriamycin', 'amikacin', 'amoxicillin', 'amoxicillin_clavulanate', 'ampicillin', 'ampicillin_sulbactam', 'anisomycin', 'aphidocolin', 'apramycin', 'arbekacin', 'aureomycin', 'azithromycin', 'aztreonam', 'bacitracin', 'bleomycin', 'carbenicillin', 'cefadroxil', 'cefalexin', 'cefaloridine', 'cefaloridine_hydrochloride', 'cefalosporin', 'cefalosporin_v', 'cefalothin', 'cefalotin', 'cefatriaxone', 'cefazolin', 'cefazolin_sodium', 'cefepime', 'cefixime', 'cefmetazole', 'cefoperazone', 'cefotaxime', 'cefotaxime_sodium', 'cefotiam', 'cefoxitin', 'cefproxil', 'cefradine', 'cefsulodin', 'ceftazidime', 'ceftriaxone', 'cefuroxime', 'cefuroxime_sodium', 'chloramfenicol', 'chloramfenicol_a', 'chlortetracycline', 'cinoxacin', 'ciprfloxacin', 'ciprofloxacin', 'clarithromycin', 'clavulanic_acid', 'clindamycin', 'clotrimazole', 'cloxacillin', 'colistin', 'colistin_sulfate', 'coumermycin', 'cycloserine', 'd-cycloserine', 'dapsone', 'daunorubicin', 'demethylchlortetracycline', 'desferrioxamine', 'doxycycline', 'doxycycline_hydrochloride', 'econazole', 'enrofloxacin', 'ertapenem', 'erythromycin', 'ethambutol', 'fleroxacin', 'flucloxicillin', 'flumequine', 'fluorouracil', 'fosfomycin', 'framycetin', 'furazolidone', 'fusidic_acid', 'fusidinic_acid', 'gentamicin', 'gentamicin_g', 'gentamicin_sulfate', 'hygromycin', 'imipenem', 'isoniazid', 'josamycin', 'kanamycin', 'kanamycin_sulfate', 'kasugamycin', 'lasalocid_a', 'latamoxef', 'leucomycin', 'levofloxacin', 'lincomycin', 'lincomycin_hydrochloride', 'linezolide', 'lividomycin', 'lomefloxacin', 'mecillinam', 'meropenem', 'methicillin', 'metronidazole', 'mezlocillin', 'mezlocillin_sulbactam', 'miconazole', 'midecamycin', 'minocycline', 'minomycin', 'mitomycin', 'mitomycin_c', 'monensin', 'monomycin', 'moxifloxacin', 'mycostatin', 'nalidixic_acid', 'neocarcinostatin', 'neomycin', 'neomycin_sulfate', 'netilmicin', 'nitrofuran', 'nitrofurantoin', 'nitrofurazone', 'norfloxacin', 'novobiocin', 'ofloxacin', 'oleandomycin', 'oxacillin', 'oxolinic_acid', 'oxytetracycline', 'paromomycin', 'pefloxacine', 'penicillin', 'penicillin_g', 'perfloxacin', 'piperacillin', 'piperacillin_pyocyanin', 'piperacillin_tazobactam', 'piperacillin_tazobactam_pyocyanin', 'piperacillin_ureidopen', 'polymyxin', 'polymyxin_b', 'polymyxin_m', 'pravastatin', 'pristinamycin', 'puromycin', 'quinolone_clinafloxalin', 'ramoplanin', 'rifabutin', 'rifampicin', 'rifampicin_sv', 'roxithromycin', 'simvastatin', 'spectinomycin', 'streptomycin', 'sulfadiazine', 'sulfamerazine', 'sulfamerazine_trimethoprim', 'sulfamethoxazole', 'sulfamethoxazole_trimethoprim', 'sulfamethoxy_hoxydiazine', 'sulfasomidine', 'sulfathiazole', 'sulphafurazole', 'teicoplanin', 'telithromycin', 'tetracycline', 'tetracycline_hydrochloride', 'thiostrepton', 'ticarcillin', 'ticarcillin_clavulanate', 'ticarcillin_clavulanate_pyocyanin', 'ticarcillin_pyocyanin', 'tigecycline', 'tobramycin', 'tobramycin_sulfate', 'trimethoprim', 'trimethoprim/sulfamethoxazole', 'troleandomycin', 'trovafloxacin', 'tyrothricin', 'vancomycin', 'vancomycin_hydrochloride', 'viomycin']"
   ]
  },
  {
   "cell_type": "code",
   "execution_count": 11,
   "metadata": {},
   "outputs": [],
   "source": [
    "antibiotics = sorted(list(set(antibiotics)))"
   ]
  },
  {
   "cell_type": "code",
   "execution_count": 13,
   "metadata": {},
   "outputs": [],
   "source": [
    "with open(r'reference\\antibiotics\\antibiotics.txt', 'w', encoding='utf-8') as f:\n",
    "    for antibiotic in antibiotics:\n",
    "        f.write(antibiotic + '\\n')"
   ]
  },
  {
   "cell_type": "markdown",
   "metadata": {},
   "source": [
    "# Carbon/Nitrogen Source"
   ]
  },
  {
   "cell_type": "code",
   "execution_count": 19,
   "metadata": {},
   "outputs": [],
   "source": [
    "CN = ['&alpha;-D-glucose 1-phosphate', '&alpha;-D-lactose', '&alpha;-Hydroxybutyric acid', '&alpha;-Ketovaleric acid', '&alpha;-cyclodextrin', '&alpha;-cyclodextrin or &beta;-cyclodextrin', '&alpha;-hydroxy-butyric acid', '&alpha;-hydroxybutyric acid', '&alpha;-keto-butyric acid', '&beta;-cyclodextrin', '&beta;-gentiobiose', '&beta;-hydroxybutyric acid', '&beta;-methyl D-glucoside', '&gamma;-Hydroxybutyric acid', '&gamma;-amino-n-butyric acid', '&gamma;-hydroxybutyric acid', '&upsih;-amino-n-butyric acid', '(+)-cellobiose', '(+)-lactose', '(+)-melezitose', '(+)-melibiose', '(+)-raffinose', '(+)-turanose', '(-)-melezitose', '1,2-propanediol', '1,3-butylene glycol', '1,3-propanediol', '1,4-butylene glycol', '1-butanol', '1-propanol', '2&#39;-deoxyadenosine', '2&rsquo; deoxyadenosine', '2,3-Butanediol', '2,3-propanediol', '2,4-dihydroxybenzoate', '2-deoxyadenosine', '2-deoxythymidine 5 ́-p-nitrophenyl phosphate', '2-deoxythymidine-5&rsquo;-para-nitrophenyl-phosphate', '2-hydroxybenzoate', '2-hydroxybutyrate', '2-ketobutyrate', '2-ketogluconate', '2-ketogluconate,5-ketogluconate', '2-ketoglutarate', '2-oxoglutarate', '2-oxovalerate', '2-propanol', '3,4-dihydroxybenzoate', '3,5-dihydroxybenzoate', '3-Methyl Glucose', '3-O-methyl-D-glucose', '3-aminobenzoate', '3-hydroxybenzoate', '3-hydroxybutyrate', '3-ketolactose', '3-methyl glucose', '3-methyl-glucose', '3-phenylpropionate', '4-Hydroxybenzoate', '4-aminobenzoate', '4-aminobutyrate', '4-hydroxybenzoate', '4-hydroxybutyrate', '4-hydroxyphenylacetate', '4-methoxycinnamate', '5-keto-D-gluconate', '5-ketogluconate', 'Acetamide', 'Acetic Acid', 'Acetic acid', 'Acetoacetic acid', 'Adonitol', 'Aesculin', 'Azelate', 'Citrate', 'Citric Acid', 'Citric acid', 'D-&alpha;glycerol phosphate', 'D-(+)-Glucose', 'D-(+)-Mannose', 'D-(+)-arabitol', 'D-(+)-cellobiose', 'D-(+)-fructose', 'D-(+)-fucose', 'D-(+)-galactose', 'D-(+)-glucosamine', 'D-(+)-glucose', 'D-(+)-lactose', 'D-(+)-malate', 'D-(+)-maltose', 'D-(+)-mannose', 'D-(+)-melezitose', 'D-(+)-melibiose', 'D-(+)-raffinose', 'D-(+)-rhamnose', 'D-(+)-ribose', 'D-(+)-sorbitol', 'D-(+)-sorbose', 'D-(+)-sucrose', 'D-(+)-trehalose', 'D-(+)-turanose', 'D-(+)-xylose', 'D-(-)-arabinose', 'D-(-)-fructose', 'D-(-)-lyxose', 'D-(-)-mannitol', 'D-(-)-melezitose', 'D-(-)-raffinose', 'D-(-)-rhamnose', 'D-(-)-ribose', 'D-(-)-sorbitol', 'D-Arabitol', 'D-Aspartic Acid', 'D-Cellobiose', 'D-Fructose', 'D-Fructose 6-phosphate', 'D-Fucose', 'D-Galactos', 'D-Galactose', 'D-Galacturonic Acid', 'D-Gluconic Acid', 'D-Gluconic acid', 'D-Glucose', 'D-Glucose-6-PO4', 'D-Lactic Acid Methyl Ester', 'D-Malic Acid', 'D-Malic acid', 'D-Maltose', 'D-Mannitol', 'D-Mannose', 'D-Melibiose', 'D-Melibiose,β-Methyl-D-Glucoside', 'D-Psicose', 'D-Ribose', 'D-Salicin', 'D-Serine', 'D-Sorbitol', 'D-Sucrose', 'D-Trehalos', 'D-Trehalose', 'D-Xylose', 'D-adonitol', 'D-alanine', 'D-amygdalin', 'D-arabinose', 'D-arabitol', 'D-arginine', 'D-aspartate', 'D-aspartic acid', 'D-cellobiose', 'D-dulcitol', 'D-erythritol', 'D-erythrose', 'D-erythrulose', 'D-fructose', 'D-fucose', 'D-galactitol', 'D-galactose', 'D-galacturonate', 'D-galacturonic acid', 'D-gentiobiose', 'D-glucitol', 'D-gluconate', 'D-gluconic acid', 'D-glucosaminate', 'D-glucosamine', 'D-glucose', 'D-glucose 6-phosphate', 'D-glucose-6-phophate', 'D-glucose-6-phosphate', 'D-glucuronate', 'D-glucuronic acid', 'D-glycerate', 'D-glycerol', 'D-histidine', 'D-inositol', 'D-lactate', 'D-lactic acid methyl ester', 'D-lactose', 'D-lactulose', 'D-leucine', 'D-lysine', 'D-lyxose', 'D-malate', 'D-malic acid', 'D-maltitol', 'D-maltose', 'D-mannitol', 'D-mannose', 'D-melezitose', 'D-melibiose', 'D-methionine', 'D-phenylalanine', 'D-proline', 'D-psicose', 'D-raffinose', 'D-rhamnose', 'D-ribose', 'D-saccharate', 'D-saccharic acid', 'D-salicin', 'D-serine', 'D-sorbitol', 'D-sorbose', 'D-sucrose', 'D-tagatose', 'D-tartrate', 'D-threonine', 'D-trehalose', 'D-tryptophan', 'D-turanose', 'D-valine', 'D-xylitol', 'D-xylose', 'D-xylose,L-xylose', 'DL-&alpha;-glycerol phosphate', 'DL-&alpha;glycerol phosphate', 'Dextrin', 'Dulcitol', 'Formic Acid', 'Gelatin', 'Gentiobiose', 'Glucose', 'Glycerol', 'Glycogen', 'Inosine', 'Inositol', 'L-&alpha;glycerol phosphate', 'L-(+)-arabinose', 'L-(+)-lactate', 'L-(+)-rhamnose', 'L-(+)-sorbose', 'L-(+)-tartrate', 'L-(-)-arabitol', 'L-(-)-fucose', 'L-(-)-sorbose', 'L-(-)-xylose', 'L-Alaninamide', 'L-Alanine', 'L-Alanyl glycine', 'L-Arabinose', 'L-Arginine', 'L-Aspartic Acid', 'L-Asparticacid', 'L-Fucose', 'L-Glutamic Acid', 'L-Glutamic acid', 'L-Lactic Acid', 'L-Lactic acid', 'L-Pyro-glutamic Acid', 'L-Pyroglutamic acid', 'L-Rhamnose', 'L-Serine', 'L-adonitol', 'L-alaninamide', 'L-alanine', 'L-alanyl-glycine', 'L-arabinose', 'L-arabitol', 'L-arbutine', 'L-arginine', 'L-arginine or L-tyrosine', 'L-ascorbate', 'L-asparagine', 'L-aspartate', 'L-aspartic acid', 'L-citrulline', 'L-cysteine', 'L-cystine', 'L-erythritol', 'L-fructose', 'L-fucose', 'L-galactonic acid-&gamma;-lactone', 'L-galactonic acid-glactone', 'L-glucose', 'L-glutamate', 'L-glutamate-&gamma;-3-carboxy-para-nitroanilide', 'L-glutamic acid', 'L-glutamine', 'L-histidine', 'L-hydroxy-proline', 'L-inositol', 'L-isoleucine', 'L-lactate', 'L-lactic acid', 'L-lactose', 'L-leucine', 'L-lysine', 'L-lyxose', 'L-malate', 'L-malic acid', 'L-mannose', 'L-methionine', 'L-ornithine', 'L-phenylalanine', 'L-proline', 'L-pyro-glutamic acid', 'L-pyroglutamate', 'L-pyroglutamic acid', 'L-raffinose', 'L-rhammnose', 'L-rhamnose', 'L-ribose', 'L-sarcosine', 'L-serine', 'L-sorbitol', 'L-sorbose', 'L-tartrate', 'L-threonine', 'L-tryptophan', 'L-turanose', 'L-tyrosine', 'L-valine', 'L-xylose', 'Maltotriose', 'Mannan', 'Mannitol', 'Methyl Pyruvate', 'Mucic Acid', 'N-Acetyl-&beta;-D-mannosamine', 'N-Acetyl-D-Galactosamine', 'N-Acetyl-D-Glucosamine', 'N-Acetyl-D-glucosamine', 'N-Acetyl-L-glutamic acid', 'N-Acetyl-β-DMannosamine', 'N-AcetylNeuraminic Acid,α-D-Glucose', 'N-acetyi-D-glucosamine', 'N-acetyl D-galactosamine', 'N-acetyl D-glucosamine', 'N-acetyl neuraminic acid', 'N-acetyl-&beta;-D-mannosamine', 'N-acetyl-&beta;-glucosamine', 'N-acetyl-D-galactosamine', 'N-acetyl-D-glucosamine', 'N-acetyl-b D-mannosamine', 'N-acetyl-neuraminic acid', 'N-acetyl-β-D-mannosamine', 'N-acetyl-β-glucosaminidase', 'NaNO3', 'Nitrate', 'Oxidase', 'Palatinose', 'Pectin', 'Phenylacetate', 'Phloroglucinol', 'Propionic Acid', 'Putrescine', 'Quinic Acid', 'Raffinose，L-Arabinose，D-Mannitol', 'Salicin', 'Salicylate', 'Sodium fumarate', 'Sodium glutamate', 'Sodium malonate', 'Sodium succinate', 'Sorbitol', 'Stachyose', 'Suberate', 'Succinamic acid', 'Succinic acid', 'Sucrose', 'Trehalose', 'Trimethylene diamine', 'Turanose', 'Tween', 'Tween 40', 'Tween 40,γ-Amino-ButryricAcid,α-Hydroxy-Butyric Acid,β-Hydroxy-D,LButyricAcid,α-Keto-Butyric Acid', 'Tween 80', 'Urea', 'Xylitol', 'Xylose', 'acetamide', 'acetate', 'acetoacetate', 'acetoin', 'acetone', 'aconitate', 'acrylate', 'adenosine', 'adenosine 5&prime;-monophosphate', 'adenosine 5&rsquo;-monophosphate', \"adenosine 5'-monophosphate\", 'adipate', 'adonitol', 'aesculin', 'agarose', 'alaninamide', 'alanine', 'alginate', 'allantoin', 'amgdalin', 'amygdalin', 'amylopectin', 'arabinose', 'arabitol', 'arbutin', 'arbutine', 'arginine', 'ascorbate', 'asparagine', 'aspartate', 'aspartic acid', 'azelate', 'b-gentiobiose', 'beef extract', 'benzamide', 'benzoate', 'betaine', 'biotin', 'bromo-succinic acid', 'bromosuccinate', 'butanol', 'butyrate', 'caprate', 'caproate', 'caprylate', 'carboxymethylcellulose', 'carnitine', 'casamino acids', 'casein', 'cellobiose', 'cellulose', 'chitin', 'chitosan', 'choline', 'cinnamate', 'cis-aconitate', 'citraconate', 'citrate', 'citric acid', 'citrulline', 'creatine', 'creatinine', 'crotonate', 'cyclohexanol', 'cysteine', 'cystine', 'dextran', 'dextrin', 'dimethylamine', 'dulcitol', 'ellobiose', 'erythritol', 'erythrose', 'erythrulose', 'esterase (C4)', 'esterase lipase (C8)', 'ethanol', 'ethanolamine', 'ethylene glycol', 'ferment glucose', 'ferulate', 'formaldehyde', 'formamide', 'formate', 'fructose', 'fucoidan', 'fucose', 'fumarate', 'galactitol', 'galactose', 'galacturonate', 'gallate', 'gelatin', 'gentiobiose', 'gentiobiose,D-lyxose,D-tagatose,L-fucose,D-arabitol,L-arabitol', 'gentisate', 'gentobiose', 'glucitol', 'gluconate', 'glucosamine', 'glucose', 'glucuronamide', 'glucuronate', 'glutamate', 'glutamine', 'glutarate', 'glycerate', 'glycerol', 'glycine', 'glycine proline', 'glycine-proline', 'glycogen', 'glycolate', 'glycyl L-aspartate', 'glycyl L-glutamate', 'glycyl L-glutamic acid', 'glycyl L-proline', 'glycyl-L-proline', 'glyoxylate', 'guanine', 'heptanoate', 'hippurate', 'histamine', 'histidine', 'hydrolyse gelatin', 'hydroquinone', 'hydroxylamine', 'hydroxyproline', 'hypoxanthine', 'i-Erythritol', 'i-erythritol', 'i-myo-Inositol', 'inosine', 'inositol', 'inulin', 'iso-inositol', 'isobutanol', 'isobutyrate', 'isocitrate', 'isoleucine', 'isovalerate', 'itaconate', 'keratin', 'ketoglutarate', 'lactamide', 'lactate', 'lactose', 'lactulose', 'laminarin', 'lecithin', 'leucine', 'leucine arylamidasel', 'levulinate', 'lipase (C14)', 'lysine', 'lyxitol', 'lyxose', 'm-coumarate', 'malate', 'maleate', 'malonate', 'maltitol', 'maltose', 'maltotriose', 'mannan', 'mannitol', 'mannose', 'melezitose', 'melibiose', 'mesaconate', 'meso-Inositol', 'methane', 'methanol', 'methionine', 'methyl &alpha;-D-galactoside', 'methyl &alpha;-D-glucoside', 'methyl &alpha;-D-mannoside', 'methyl &beta;-D-galactoside', 'methyl &beta;-D-glucoside', 'methyl pyruvate', 'methyl β-D-xylose', 'methyl β-L-sorbose', 'methyl-D-glucoside', 'methyla-D-gluco-pyranoside,N-acetylglucosamine', 'methyla-D-mannopyranoside', 'methylamine', 'methylb-D-xylopyranoside', 'methylb-xyloside', 'methylpyruvate', 'microcrystalline cellulose', 'monoethanolamine', 'monomethyl succinate', 'mucate', 'mucic acid', 'myo-Inositol', 'myo-erythritol', 'myo-inositol', 'n-acetyl-D-galactosamine', 'n-acetyl-D-glucosamine', 'n-acetyl-D-mannosamine', 'n-acetyl-L-glutamate', 'n-acetyl-galactosamine', 'n-acetyl-glucosamine', 'n-acetyl-neuraminate', 'n-acetyl-β-D-mannosamine', 'naphthol-AS-BI-phosphohydrolase', 'nicotinate', 'nitrate', 'nitrate,', 'olive oil', 'or acetoacetic acid', 'ornithine', 'oxalate', 'oxaloacetate', 'p-Hydroxy-Phenylacetic Acid', 'p-aminosalicylate', 'p-arbutine', 'p-coumarate', 'p-hydroxy-phenylacetic acid', 'p-hydroxyphenylacetic acid', 'p-nitrophenyl phosphorylcholine', 'palatinose', 'para-nitrophenyl-&beta;-D-galactopyranoside', 'para-nitrophenyl-&beta;-D-glucuronide', 'pectin', 'peptone', 'phenol', 'phenylacetate', 'phenylacetic acid', 'phenylalanine', 'phenylethylamine', 'phthalate', 'pimelate', 'polyethylene glycol', 'potassium 2-ketogluconate', 'potassium 5-ketogluconate', 'potassium gluconate', 'produce indole', 'proline', 'propanol', 'propionate', 'protocatechuate', 'psicose', 'pullulan', 'putrescine', 'pyrocatechol', 'pyrogallol', 'pyroglutamate', 'pyruvate', 'quinate', 'quinic acid', 'raffinose', 'reduce nitrate', 'resorcinol', 'rhamnose', 'ribose', 'saccharate', 'salicin', 'salicine', 'salicylate', 'sarcosine', 'sebacate', 'sedoheptulosan', 'serine', 'shikimate', 'sodium acetate', 'sodium butyrate', 'sodium citrate', 'sodium gluconate', 'sodium malonate', 'sodium pyruvate', 'sodium succinate', 'sorbitol', 'sorbose', 'spermidine', 'spermine', 'stachyose', 'starch', 'starch ', 'suberate', 'succinamate', 'succinate', 'sucrose', 'syringate', 'tagatose', 'tartrate', 'terephthalate', 'thiamine', 'threonine', 'thymidine', 'thymidine 5&prime;-monophosphate', 'thymidine 5&rsquo; monophosphate', \"thymidine 5'-monophosphate\", 'thymine', 'toluene', 'trans-aconitate', 'trehalose', 'tricarballylate', 'trigonelline', 'trimethoxybenzoate', 'trimethyelene diamine', 'trimethylamine', 'trisodium citrate', 'tryptamine', 'tryptone', 'tryptophan', 'turanose', 'tween 20', 'tween 40', 'tween 60', 'tween 80', 'tyrosine', 'uracil', 'urea', 'urease', 'uridine', 'uridine 5&prime;-monophosphate', 'uridine 5&rsquo;-monophosphate', \"uridine 5'-monophosphate\", 'urocanate', 'valerate', 'valine', 'valine arylamidase', 'xanthan', 'xanthine', 'xylan', 'xylitol', 'xylose', 'yeast extract', 'α-D-glucose', 'α-D-lactose', 'α-D-lactulose', 'α-D-melezitose', 'α-D-melibiose', 'α-L-fucose', 'α-L-rhamnose', 'α-cyclodextrin', 'α-hydroxy-butyric acid', 'α-hydroxy-butyricacid， α-keto-butyricacid， Propionic Acid', 'α-ketovalerate', 'α-lactose', 'α-lyxose', 'α-melibiose', 'α-methyl-D-glucoside', 'β-D-fructose', 'β-Methyl-D-Glucoside', 'β-alanine', 'β-cyclodextrin', 'β-gentiobiose', 'β-lactose', 'β-methyl-D-glucoside', 'β-methyl-D-xylopyranoside', 'β-methyl-D-xyloside', 'β-methyl-xyloside', 'γ-amino-butryric acid', ' &gamma;-amino-n-butyric acid', ' D-(-)-mannose', ' D-Cellobiose', ' Glucuronamid', ' aesculin', ' erythritol', ' gluconate', ' sodium fumarate', '&alpha;-Ketovaleric acid', '&alpha;-hydroxy-butyric acid', '&alpha;-keto-Butyric acid', '&alpha;-keto-glutaric acid', '&beta;-hydroxy-butyric acid', '&gamma;-hydroxybutyric acid', '(+)-cellobiose', '(+)-lactose', '(+)-maltose', '(+)-melibiose', '(+)-raffinose', '(+)-sucrose', '(+)-trehalose', '1,2-propanediol', '1-butanol', '1-propanol', '2,3-Butanediol', '2,3-butylene glycol', '2,3-propanediol', '2-deoxyadenosine', '2-hyddroxyvalerate', '2-hydroxybenzoate', '2-hydroxybutyrate', '2-hydroxyvalerate', '2-ketogluconate', '2-ketoglutarate', '2-propanol', '3,4-dihydroxybenzoate', '3-Methyl glucose', '3-aminobenzoate', '3-hydroxybenzoate', '3-hydroxybutyrate', '3-methoxycinnamate', '3-methyl-glucose', '3-phenylpropionate', '4-aminobenzoate', '4-aminobutyrate', '4-hydroxybenzoate', '4-hydroxybutyrate', '4-hydroxyphenylacetate', '4-methoxycinnamate', '40', '40 and 60 )', '5-keto-D-gluconate', '5-ketogluconate', '60 and 80)，D-turanose', 'Acetamide', 'Acetamide ', 'Acetate', 'Adenine', 'Adonitol', 'Aesculin', 'Amino acid', 'Arabinose', 'CO2', 'CO2/NH3', 'Cellobiose', 'Citrate', 'D(+)-Glucose', 'D(+)-Mannose', 'D(+)-Trehalose', 'D(-)-Fructose', 'D(-)-Mannitol', 'D-(+)-arabitol', 'D-(+)-cellobiose', 'D-(+)-fructose', 'D-(+)-galactose', 'D-(+)-glucosamine', 'D-(+)-glucose', 'D-(+)-lactose', 'D-(+)-malate', 'D-(+)-maltose', 'D-(+)-mannitol', 'D-(+)-mannose', 'D-(+)-melezitose', 'D-(+)-melibiose', 'D-(+)-raffinose', 'D-(+)-ribose', 'D-(+)-sucrose', 'D-(+)-trehalose', 'D-(+)-turanose', 'D-(+)-xylose', 'D-(-)-arabinose', 'D-(-)-fructose', 'D-(-)-fucose', 'D-(-)-lyxose', 'D-(-)-malate', 'D-(-)-mannitol', 'D-(-)-raffinose', 'D-(-)-ribose', 'D-(-)-sorbitol', 'D-(-)-sucrose', 'D-(-)-turanose', 'D-3-H ydroxybwtyrate', 'D-Fructose', 'D-Fructose-6-PO4', 'D-Galactose', 'D-Galacturonic acid', 'D-Glucose', 'D-Glucuronic acid', 'D-Lactate', 'D-Maltose', 'D-Mannitol', 'D-Mannose', 'D-Ribose', 'D-Saccharic acid', 'D-Serine', 'D-Sorbitol', 'D-Trehalose', 'D-Xylose', 'D-adonitol', 'D-alanine', 'D-amygdalin', 'D-arabinose', 'D-arabitol', 'D-arginine', 'D-aspartate', 'D-cellobiose', 'D-erythrose', 'D-fructose', 'D-fructose-6-PO4', 'D-fructose-6-PO4,dextrin', 'D-fructose-6-phosphate', 'D-fructose-6P and glucuronamide', 'D-fucose', 'D-galactitol', 'D-galactose', 'D-galacturonate', 'D-galacturonic acid', 'D-gentiobiose', 'D-glucitol', 'D-glucitol (D-sorbitol)', 'D-gluconate', 'D-gluconic acid', 'D-glucosaminate', 'D-glucosamine', 'D-glucosaminic acid', 'D-glucose', 'D-glucose- 6-PO4', 'D-glucose-6-phophate', 'D-glucose-6-phosphate', 'D-glucuronate', 'D-glucuronic acid', 'D-glutamate', 'D-glycerate', 'D-glycerol', 'D-histidine', 'D-inositol', 'D-lactate', 'D-lactose', 'D-lactulose', 'D-leucine', 'D-lyxose', 'D-malate', 'D-malic acid', 'D-maltose', 'D-maltotriose', 'D-mannitol', 'D-mannose', 'D-melezitose', 'D-melibiose', 'D-methionine', 'D-phenylalanine', 'D-psicose', 'D-raffinose', 'D-rhamnose', 'D-ribose', 'D-ribose,D-glucose', 'D-ribose,D-sorbitol', 'D-saccharate', 'D-saccharic acid', 'D-salicin', 'D-salicintrehalose', 'D-serine', 'D-sorbitol', 'D-sorbose', 'D-sucrose', 'D-tagatose', 'D-tartrate', 'D-threonine', 'D-trehalose', 'D-tryptophan', 'D-turanose', 'D-valine', 'D-xylitol', 'D-xylose', 'DL-lactate', 'Dextrin', 'Dulcitol', 'Formic acid', 'Fructose', 'Glucose', 'Glutamate', 'Glutarate', 'Inosine', 'Inositol', 'Itaconate', 'L- Alanine', 'L- Arabinose', 'L-(+)-arabinose', 'L-(+)-lactate', 'L-(+)-rhamnose', 'L-(+)-tartrate', 'L-(-)-fucose', 'L-(-)-malate', 'L-3-H ydroxybwtyrate', 'L-Alanine', 'L-Alanyl glycine', 'L-Arabinose', 'L-Arginine', 'L-Glutamic acid', 'L-Histidine', 'L-Isoleucine', 'L-Lactate', 'L-Leucine', 'L-Lysine', 'L-Methionine', 'L-Proline', 'L-Proline-para-nitroanilide', 'L-Pyroglutamic acid', 'L-Rhamnose', 'L-Threonine', 'L-Valine', 'L-alaninamide', 'L-alanine', 'L-alanine-para-nitroanilide', 'L-alanyl-glycine', 'L-arabinose', 'L-arabitol', 'L-arginine', 'L-ascorbate', 'L-asparagine', 'L-aspartate', 'L-cellobiose', 'L-citrulline', 'L-cysteine', 'L-cystine', 'L-dulcitol', 'L-erythritol', 'L-fructose', 'L-fucose', 'L-galactonic acid lactone', 'L-galactonicacid-glactone', 'L-galactose', 'L-glutamate', 'L-glutamic acid', 'L-glutamine', 'L-glycerate', 'L-histidine', 'L-hydroxy-proline', 'L-isoleucine', 'L-lactate', 'L-lactic acid', 'L-leucine', 'L-lysine', 'L-lyxose', 'L-malate', 'L-malic acid', 'L-malic acid ', 'L-maltose', 'L-melibiose', 'L-methionine', 'L-ornithine', 'L-phenylalanine', 'L-proline', 'L-pyroglutamate', 'L-pyroglutamic', 'L-raffinose', 'L-rhamnose', 'L-ribose', 'L-serine', 'L-serine,', 'L-sorbose', 'L-tartrate', 'L-threonine', 'L-tryptophan', 'L-tyrosine', 'L-valine', 'L-xylose', 'LButyric Acid', 'Lactose', 'Maltitol', 'Maltose', 'Maltotriose', 'Mannan', 'Mannitol', 'Mannose', 'N-Acetyl-&beta;-D-mannosamine', 'N-Acetyl-D-glucosamine', 'N-Acetyl-L-glutamic acid', 'N-acetyl D-glucosamine', 'N-acetyl-&beta;-glucosamine', 'N-acetyl-D-galactosamine', 'N-acetyl-D-glucosamine', 'N-acetyl-neuraminic acid', 'N-acetylglucos-amine', 'N-acetylglucosamine,glycerol', 'N-acetylneuraminic acid', 'NH3', 'Nitrate', 'Nitrite', 'Palatinose', 'Phloroglucinol', 'Propanol', 'Putrescine', 'Pyruvate', 'Salicin', 'Serine', 'Sodium citrate', 'Sodium fumarate', 'Sodium malonate', 'Sodium oxalate', 'Sodium succinate', 'Succinamic acid', 'Succinic acid', 'Sucrose', 'Tetrazolium blue', 'Trehalose', 'Trimethylenediamine', 'Turanose', 'Tween', 'Tween 20', 'Tween 40', 'Tween 80', 'Tweens (20', 'Urea', 'Xanthine', 'Xylose', 'a-keto-glutaric acid', 'acetamide', 'acetate', 'acetic acid', 'acetoacetate', 'acetoacetic acid', 'acetoin', 'acetone', 'aconitate', 'adenosine', \"adenosine 5'-monophosphate\", 'adipate', 'adonitol', 'adonitol,L-arabinose,i-erythritol,D-fructose,D-glucose', 'aesculin', 'agarose', 'alaninamide', 'alanine', 'alginate', 'allantoin', 'amygdalin', 'amylopectin', 'arabinose', 'arabitol', 'arbutin', 'arbutine', 'arginine', 'ascorbate', 'asparagine', 'aspartate', 'azelate', 'beef extract', 'benzoate', 'betaine', 'bicarbonate', 'biotin', 'bis-para-nitrophenyl-phosphate', 'bromosuccinate', 'butanediol', 'butanol', 'butyrate', 'butyric acid', 'caprate', 'caproate', 'caprylate', 'carboxymethylcellulose', 'carnitine', 'casamino acids', 'casein', 'catalase', 'cellobiose', 'cellose', 'cellulose', 'chitin', 'chitosan', 'choline', 'cinnamate', 'cis-Aconitate', 'cis-aconitate', 'citraconate', 'citrate', 'citric acid', 'citrulline', 'creatine', 'creatinine', 'crotonate', 'cyclohexanol', 'cysteine', 'cystine', 'dextran', 'dextrin', 'dimethylamine', 'dodecyltrimethyl ammonium bromide,D-fructose-6-phosphate', 'dulcitol', 'dulicitol', 'erythritol', 'erythrose', 'erythrulose', 'esterase (C4)', 'esterase lipase (C8)', 'ethanol', 'ethanolamine', 'ethylene glycol', 'ferulate', 'formaldehyde', 'formamide', 'formate', 'fructose', 'fucoidan', 'fucose', 'fumarate', 'fusidic acid', 'galactitol', 'galactose', 'galacturonate', 'gallate', 'gelatin', 'gelatin， galactose', 'gentiobiose', 'gentisate', 'glucitol', 'gluconate', 'gluconate,i-inositol', 'glucosaminate', 'glucosamine', 'glucose', 'glucuronamide', 'glucuronamide ', 'glucuronamide and α-keto-glutaric acid', 'glucuronate', 'glutamate', 'glutamine', 'glutarate', 'glycerate', 'glycerol', 'glycine', 'glycine-proline', 'glycogen', 'glycolate', 'glycyl L-aspartate', 'glycyl L-glutamate', 'glycyl L-proline', 'glycyl-L-proline', 'glyoxylate', 'guanine', 'heptanoate', 'hippurate', 'histamine', 'histidine', 'hydroquinone', 'hydroxylamine', 'hydroxyproline', 'hypoxanthine', 'i-Erythritol', 'i-Inositol', 'i-myo- inositol', 'i-myo-Inositol', 'i-myo-inositol', 'inosine', 'inositol', 'inulin', 'iso-inositol', 'iso-myo-inositol', 'isobutyrate', 'isocitrate', 'isoleucine', 'isovalerate', 'itaconate', 'keratin', 'ketoglutarate', 'lactamide', 'lactate', 'lactose', 'lactulose', 'laminarin', 'lecithin', 'leucine', 'leucine arylamidase', 'levulinate', 'lysine', 'lyxitol', 'lyxose', 'malate', 'maleate', 'malonate', 'maltitol', 'maltose', 'maltotriose', 'mannan', 'mannitol', 'mannose', 'melezitose', 'melibiose', 'mesaconate', 'meso-Inositol', 'metabolised acetic acid', 'methane', 'methanol', 'methionine', 'methyl &beta;-D-glucoside', 'methyl pyruvate', 'methyl β-D-glucose', 'methyl-D-glucoside', 'methylamine', 'methylpyruvate', 'microcrystalline cellulose', 'monoethanolamine', 'monomethyl succinate', 'mucate', 'myo-Inositol', 'myo-erythritol', 'myo-inositol', 'n-acetyl-D-galactosamine', 'n-acetyl-D-glucosamine', 'n-acetyl-D-mannosamine', 'n-acetyl-L-glutamate', 'n-acetyl-galactosamine', 'n-acetyl-glucosamine', 'n-acetyl-neuraminate', 'n-acetyl-β-D-mannosamine', 'n-propanol', 'naphthol-AS-BI-phosphohydrolase', 'nicotinamide', 'nicotinate', 'nitrate', 'nitrite', 'olive oil', 'ornithine', 'oxalate', 'oxaloacetate', 'p-aminosalicylate', 'p-arbutine', 'p-coumarate', 'p-nitrophenyl &beta;-D-xyloside', 'palatinose', 'pectin', 'peptone', 'phenol', 'phenylacetate', 'phenylalanine', 'phenylethylamine', 'phthalate', 'pimelate', 'polyethylene glycol', 'potassium 2-ketogluconate', 'potassium 5-ketogluconate', 'potassium gluconate', 'proline', 'propanol', 'propionate', 'propionic acid', 'propylene glycol', 'protocatechuate', 'psicose', 'pullulan', 'putrescine', 'pyrazinamide', 'pyrocatechol', 'pyrogallol', 'pyroglutamate', 'pyruvate', 'quinate', 'raffinose', 'rhamnose', 'ribose', 'ribose,xylose', 'saccharate', 'salicin', 'salicine', 'salicylate', 'sarcosine', 'sebacate', 'sedoheptulosan', 'serine', 'shikimate', 'sodium acetate', 'sodium butyrate', 'sodium butyrate but not amino acids', 'sodium citrate', 'sodium gluconate', 'sodium hippurate', 'sodium malonate', 'sodium oxalate', 'sodium pyruvate', 'sodium succinate', 'sorbitol', 'sorbose', 'spermidine', 'spermine', 'stachyose', 'starch', 'suberate', 'succinamate', 'succinamide', 'succinate', 'sucrose', 'syringate', 'tagatose', 'tartrate', 'terephthalate', 'testosterone', 'thiamine', 'threonine', 'thymidine', \"thymidine 5'-monophosphate\", 'thymine', 'toluene', 'trans-aconitate', 'trehalose', 'trehalose and xylose', 'trigonelline', 'trimethoxybenzoate', 'trimethylamine', 'trimethylendiamine', 'trimethylenediamine', 'trisodium citrate', 'trypsin', 'tryptamine', 'tryptone', 'tryptophan', 'turanose', 'turanose,D-fucose', 'tween 20', 'tween 40', 'tween 60', 'tween 80', 'tyrosine', 'uracil', 'urea', 'uridine', \"uridine 5'-monophosphate\", 'urocanate', 'valerate', 'valine', 'xanthan', 'xanthine', 'xylan', 'xylitol', 'xylose', 'yeast extract', 'α-D-Glucose', 'α-D-fructose', 'α-D-glucose', 'α-D-lactose', 'α-D-melezitose', 'α-D-melibiose', 'α-L-rhamnose', 'α-cyclodextrin', 'α-keto-glutaric acid', 'α-ketovalerate', 'α-lactose', 'α-melibiose', 'α-trehalose', 'β-D-fructose', 'β-Hydroxy-D', 'β-alanine', 'β-cyclodextrin', 'β-gentiobiose', 'β-methyl-D-glucoside', 'β-methyl-D-xylopyranoside', 'β-methyl-D-xyloside', 'β-methyl-xyloside', 'β-trehalose', 'D-mannose', 'L-arginine', 'L-cystine', 'L-glutamic acid', 'L-phenylalanine,L-alanine', 'L-proline', 'L-threonine', 'L-tyrosine', 'Tween 80', 'rhamnose']"
   ]
  },
  {
   "cell_type": "code",
   "execution_count": 20,
   "metadata": {},
   "outputs": [
    {
     "data": {
      "text/plain": [
       "1415"
      ]
     },
     "execution_count": 20,
     "metadata": {},
     "output_type": "execute_result"
    }
   ],
   "source": [
    "len(CN)"
   ]
  },
  {
   "cell_type": "code",
   "execution_count": 23,
   "metadata": {},
   "outputs": [],
   "source": [
    "CN = sorted(list(set([unescape(i.strip()) for i in CN])))"
   ]
  },
  {
   "cell_type": "code",
   "execution_count": 24,
   "metadata": {},
   "outputs": [],
   "source": [
    "with open(r'reference\\cnsource\\cnsource.txt', 'w', encoding='utf-8') as f:\n",
    "    for i in CN:\n",
    "        f.write(i + '\\n')"
   ]
  }
 ],
 "metadata": {
  "kernelspec": {
   "display_name": "pdf",
   "language": "python",
   "name": "python3"
  },
  "language_info": {
   "codemirror_mode": {
    "name": "ipython",
    "version": 3
   },
   "file_extension": ".py",
   "mimetype": "text/x-python",
   "name": "python",
   "nbconvert_exporter": "python",
   "pygments_lexer": "ipython3",
   "version": "3.10.14"
  }
 },
 "nbformat": 4,
 "nbformat_minor": 2
}
