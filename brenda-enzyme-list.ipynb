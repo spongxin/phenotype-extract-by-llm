{
 "cells": [
  {
   "cell_type": "code",
   "execution_count": 1,
   "metadata": {},
   "outputs": [],
   "source": [
    "import requests\n",
    "from bs4 import BeautifulSoup\n",
    "import pandas as pd"
   ]
  },
  {
   "cell_type": "code",
   "execution_count": 2,
   "metadata": {},
   "outputs": [],
   "source": [
    "resp = requests.get(\n",
    "    'https://www.brenda-enzymes.org/all_enzymes.php',\n",
    "    headers={'User-Agent': 'Mozilla/5.0 (Windows NT 10.0; Win64; x64) AppleWebKit/537.36 (KHTML, like Gecko) Chrome/126.0.0.0 Safari/537.36'}\n",
    ")"
   ]
  },
  {
   "cell_type": "code",
   "execution_count": 3,
   "metadata": {},
   "outputs": [],
   "source": [
    "assert resp.status_code == 200"
   ]
  },
  {
   "cell_type": "code",
   "execution_count": 4,
   "metadata": {},
   "outputs": [],
   "source": [
    "soup = BeautifulSoup(resp.text, 'lxml')"
   ]
  },
  {
   "cell_type": "code",
   "execution_count": 10,
   "metadata": {},
   "outputs": [],
   "source": [
    "enzymes = soup.html.body.find('div', id=\"content\").div.table.tbody.find_all('tr')\n",
    "enzymes = pd.DataFrame([{'EC Number': enzyme.td.text, 'Name': enzyme.td.next_sibling.text} for enzyme in enzymes])"
   ]
  },
  {
   "cell_type": "code",
   "execution_count": 15,
   "metadata": {},
   "outputs": [
    {
     "data": {
      "text/html": [
       "<div>\n",
       "<style scoped>\n",
       "    .dataframe tbody tr th:only-of-type {\n",
       "        vertical-align: middle;\n",
       "    }\n",
       "\n",
       "    .dataframe tbody tr th {\n",
       "        vertical-align: top;\n",
       "    }\n",
       "\n",
       "    .dataframe thead th {\n",
       "        text-align: right;\n",
       "    }\n",
       "</style>\n",
       "<table border=\"1\" class=\"dataframe\">\n",
       "  <thead>\n",
       "    <tr style=\"text-align: right;\">\n",
       "      <th></th>\n",
       "      <th>EC Number</th>\n",
       "      <th>Name</th>\n",
       "    </tr>\n",
       "  </thead>\n",
       "  <tbody>\n",
       "    <tr>\n",
       "      <th>1796</th>\n",
       "      <td>1.14.13.74</td>\n",
       "      <td>7-deoxyloganin 7-hydroxylase</td>\n",
       "    </tr>\n",
       "    <tr>\n",
       "      <th>2881</th>\n",
       "      <td>2.1.1.305</td>\n",
       "      <td>8-demethyl-8-alpha-L-rhamnosyl tetracenomycin-...</td>\n",
       "    </tr>\n",
       "    <tr>\n",
       "      <th>2239</th>\n",
       "      <td>1.14.19.13</td>\n",
       "      <td>acyl-CoA 15-desaturase</td>\n",
       "    </tr>\n",
       "    <tr>\n",
       "      <th>2560</th>\n",
       "      <td>2.1.1.10</td>\n",
       "      <td>homocysteine S-methyltransferase</td>\n",
       "    </tr>\n",
       "    <tr>\n",
       "      <th>4194</th>\n",
       "      <td>2.6.1.74</td>\n",
       "      <td>cephalosporin-C transaminase</td>\n",
       "    </tr>\n",
       "    <tr>\n",
       "      <th>2911</th>\n",
       "      <td>2.1.1.335</td>\n",
       "      <td>4-amino-anhydrotetracycline N4-methyltransferase</td>\n",
       "    </tr>\n",
       "    <tr>\n",
       "      <th>228</th>\n",
       "      <td>1.1.1.208</td>\n",
       "      <td>(+)-neomenthol dehydrogenase</td>\n",
       "    </tr>\n",
       "    <tr>\n",
       "      <th>4953</th>\n",
       "      <td>3.1.1.41</td>\n",
       "      <td>cephalosporin-C deacetylase</td>\n",
       "    </tr>\n",
       "    <tr>\n",
       "      <th>1087</th>\n",
       "      <td>1.5.1.10</td>\n",
       "      <td>saccharopine dehydrogenase (NADP+, L-glutamate...</td>\n",
       "    </tr>\n",
       "    <tr>\n",
       "      <th>2430</th>\n",
       "      <td>1.16.98.B1</td>\n",
       "      <td>mitochondrial amidoxime reducing component</td>\n",
       "    </tr>\n",
       "    <tr>\n",
       "      <th>5233</th>\n",
       "      <td>3.1.4.56</td>\n",
       "      <td>7,8-dihydroneopterin 2',3'-cyclic phosphate ph...</td>\n",
       "    </tr>\n",
       "    <tr>\n",
       "      <th>5188</th>\n",
       "      <td>3.1.4.11</td>\n",
       "      <td>phosphoinositide phospholipase C</td>\n",
       "    </tr>\n",
       "    <tr>\n",
       "      <th>3165</th>\n",
       "      <td>2.3.1.131</td>\n",
       "      <td>glucarate O-hydroxycinnamoyltransferase</td>\n",
       "    </tr>\n",
       "    <tr>\n",
       "      <th>6399</th>\n",
       "      <td>3.5.1.70</td>\n",
       "      <td>aculeacin-A deacylase</td>\n",
       "    </tr>\n",
       "    <tr>\n",
       "      <th>5245</th>\n",
       "      <td>3.1.6.4</td>\n",
       "      <td>N-acetylgalactosamine-6-sulfatase</td>\n",
       "    </tr>\n",
       "    <tr>\n",
       "      <th>7063</th>\n",
       "      <td>4.1.99.18</td>\n",
       "      <td>cyclic pyranopterin phosphate synthase</td>\n",
       "    </tr>\n",
       "    <tr>\n",
       "      <th>7566</th>\n",
       "      <td>4.3.1.22</td>\n",
       "      <td>3,4-dihydroxyphenylalanine reductive deaminase</td>\n",
       "    </tr>\n",
       "    <tr>\n",
       "      <th>3128</th>\n",
       "      <td>2.3.1.94</td>\n",
       "      <td>6-deoxyerythronolide-B synthase</td>\n",
       "    </tr>\n",
       "    <tr>\n",
       "      <th>7866</th>\n",
       "      <td>5.3.99.1</td>\n",
       "      <td>hydroperoxide isomerase</td>\n",
       "    </tr>\n",
       "    <tr>\n",
       "      <th>6394</th>\n",
       "      <td>3.5.1.65</td>\n",
       "      <td>theanine hydrolase</td>\n",
       "    </tr>\n",
       "  </tbody>\n",
       "</table>\n",
       "</div>"
      ],
      "text/plain": [
       "       EC Number                                               Name\n",
       "1796  1.14.13.74                       7-deoxyloganin 7-hydroxylase\n",
       "2881   2.1.1.305  8-demethyl-8-alpha-L-rhamnosyl tetracenomycin-...\n",
       "2239  1.14.19.13                             acyl-CoA 15-desaturase\n",
       "2560    2.1.1.10                   homocysteine S-methyltransferase\n",
       "4194    2.6.1.74                       cephalosporin-C transaminase\n",
       "2911   2.1.1.335   4-amino-anhydrotetracycline N4-methyltransferase\n",
       "228    1.1.1.208                       (+)-neomenthol dehydrogenase\n",
       "4953    3.1.1.41                        cephalosporin-C deacetylase\n",
       "1087    1.5.1.10  saccharopine dehydrogenase (NADP+, L-glutamate...\n",
       "2430  1.16.98.B1         mitochondrial amidoxime reducing component\n",
       "5233    3.1.4.56  7,8-dihydroneopterin 2',3'-cyclic phosphate ph...\n",
       "5188    3.1.4.11                   phosphoinositide phospholipase C\n",
       "3165   2.3.1.131            glucarate O-hydroxycinnamoyltransferase\n",
       "6399    3.5.1.70                              aculeacin-A deacylase\n",
       "5245     3.1.6.4                  N-acetylgalactosamine-6-sulfatase\n",
       "7063   4.1.99.18             cyclic pyranopterin phosphate synthase\n",
       "7566    4.3.1.22     3,4-dihydroxyphenylalanine reductive deaminase\n",
       "3128    2.3.1.94                    6-deoxyerythronolide-B synthase\n",
       "7866    5.3.99.1                            hydroperoxide isomerase\n",
       "6394    3.5.1.65                                 theanine hydrolase"
      ]
     },
     "execution_count": 15,
     "metadata": {},
     "output_type": "execute_result"
    }
   ],
   "source": [
    "enzymes.sample(20)"
   ]
  },
  {
   "cell_type": "code",
   "execution_count": 14,
   "metadata": {},
   "outputs": [],
   "source": [
    "enzymes.to_csv('brenda-enzyme-list.csv', index=False)"
   ]
  }
 ],
 "metadata": {
  "kernelspec": {
   "display_name": "pdf",
   "language": "python",
   "name": "python3"
  },
  "language_info": {
   "codemirror_mode": {
    "name": "ipython",
    "version": 3
   },
   "file_extension": ".py",
   "mimetype": "text/x-python",
   "name": "python",
   "nbconvert_exporter": "python",
   "pygments_lexer": "ipython3",
   "version": "3.10.14"
  }
 },
 "nbformat": 4,
 "nbformat_minor": 2
}
