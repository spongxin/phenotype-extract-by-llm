{
 "cells": [
  {
   "cell_type": "code",
   "execution_count": 17,
   "metadata": {},
   "outputs": [],
   "source": [
    "import requests\n",
    "from bs4 import BeautifulSoup\n",
    "from html import unescape\n",
    "import pandas as pd"
   ]
  },
  {
   "cell_type": "code",
   "execution_count": 2,
   "metadata": {},
   "outputs": [],
   "source": [
    "resp = requests.get(\n",
    "    'https://www.brenda-enzymes.org/all_enzymes.php',\n",
    "    headers={'User-Agent': 'Mozilla/5.0 (Windows NT 10.0; Win64; x64) AppleWebKit/537.36 (KHTML, like Gecko) Chrome/126.0.0.0 Safari/537.36'}\n",
    ")"
   ]
  },
  {
   "cell_type": "code",
   "execution_count": 3,
   "metadata": {},
   "outputs": [],
   "source": [
    "assert resp.status_code == 200"
   ]
  },
  {
   "cell_type": "code",
   "execution_count": 4,
   "metadata": {},
   "outputs": [],
   "source": [
    "soup = BeautifulSoup(resp.text, 'lxml')\n",
    "enzymes = soup.html.body.find('div', id=\"content\").div.table.tbody.find_all('tr')\n",
    "enzymes = pd.DataFrame([{'EC Number': enzyme.td.text, 'Name': enzyme.td.next_sibling.text} for enzyme in enzymes])"
   ]
  },
  {
   "cell_type": "code",
   "execution_count": 11,
   "metadata": {},
   "outputs": [],
   "source": [
    "enzymes['Name'].to_csv('brenda-enzymes.csv', index=False, header=False)"
   ]
  },
  {
   "cell_type": "code",
   "execution_count": 25,
   "metadata": {},
   "outputs": [
    {
     "name": "stdout",
     "output_type": "stream",
     "text": [
      "7904\n"
     ]
    }
   ],
   "source": [
    "with open(r'reference\\brenda-enzymes.txt', 'r') as f:\n",
    "    enzymes = list(set([unescape(i.strip()) for i in f.readlines()]))\n",
    "print(len(enzymes))"
   ]
  },
  {
   "cell_type": "code",
   "execution_count": 26,
   "metadata": {},
   "outputs": [],
   "source": [
    "with open(r'reference\\brenda-enzymes.txt', 'w', encoding='utf-8') as f:\n",
    "    for enzyme in enzymes:\n",
    "        f.write(enzyme + '\\n')"
   ]
  },
  {
   "cell_type": "code",
   "execution_count": 27,
   "metadata": {},
   "outputs": [],
   "source": [
    "enzymes = []\n",
    "for filename in ['brenda-enzymes.txt', 'eLMSG-commonly-used-enzymes.txt', 'RDBSB-enzymes.txt']:\n",
    "    with open(f'reference/{filename}', 'r') as f:\n",
    "        enzymes += [i.strip() for i in f.readlines()]\n",
    "enzymes = sorted(list(set(enzymes)))"
   ]
  },
  {
   "cell_type": "code",
   "execution_count": 28,
   "metadata": {},
   "outputs": [
    {
     "name": "stdout",
     "output_type": "stream",
     "text": [
      "125345\n"
     ]
    }
   ],
   "source": [
    "print(len(enzymes))"
   ]
  },
  {
   "cell_type": "code",
   "execution_count": 29,
   "metadata": {},
   "outputs": [],
   "source": [
    "with open('reference\\enzymes.txt', 'w', encoding='utf-8') as f:\n",
    "    for enzyme in enzymes:\n",
    "        f.write(enzyme + '\\n')"
   ]
  }
 ],
 "metadata": {
  "kernelspec": {
   "display_name": "pdf",
   "language": "python",
   "name": "python3"
  },
  "language_info": {
   "codemirror_mode": {
    "name": "ipython",
    "version": 3
   },
   "file_extension": ".py",
   "mimetype": "text/x-python",
   "name": "python",
   "nbconvert_exporter": "python",
   "pygments_lexer": "ipython3",
   "version": "3.10.14"
  }
 },
 "nbformat": 4,
 "nbformat_minor": 2
}
